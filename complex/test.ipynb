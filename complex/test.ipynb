{
 "cells": [
  {
   "cell_type": "code",
   "execution_count": 4,
   "metadata": {},
   "outputs": [],
   "source": [
    "import numpy as np\n",
    "\n",
    "\n",
    "  \n",
    "  \n",
    "def print_shape(shape:tuple[int, int]):\n",
    "  \n",
    "  with open(f\"{shape[0]}x{shape[1]}.map\", mode='w') as f:\n",
    "    f.write(f\"{shape[0]} {shape[1]}\\n\")\n",
    "    arr = np.random.randint(low=0, high=100, size=shape)\n",
    "    for i in range(arr.shape[0]):\n",
    "      for j in range(arr.shape[1]):\n",
    "        f.write(f\"{arr[i][j]} \")\n",
    "      f.write(\"\\n\")\n",
    "\n",
    "print_shape((5, 5))\n",
    "\n",
    "\n"
   ]
  }
 ],
 "metadata": {
  "kernelspec": {
   "display_name": "Python 3",
   "language": "python",
   "name": "python3"
  },
  "language_info": {
   "codemirror_mode": {
    "name": "ipython",
    "version": 3
   },
   "file_extension": ".py",
   "mimetype": "text/x-python",
   "name": "python",
   "nbconvert_exporter": "python",
   "pygments_lexer": "ipython3",
   "version": "3.10.9"
  },
  "orig_nbformat": 4
 },
 "nbformat": 4,
 "nbformat_minor": 2
}
